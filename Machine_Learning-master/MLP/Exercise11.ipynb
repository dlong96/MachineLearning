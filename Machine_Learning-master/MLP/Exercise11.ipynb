{
 "cells": [
  {
   "cell_type": "code",
   "execution_count": 29,
   "metadata": {
    "collapsed": true
   },
   "outputs": [],
   "source": [
    "import numpy as np\n",
    "import pandas as pd\n",
    "import matplotlib.pyplot as plt\n",
    "%matplotlib inline"
   ]
  },
  {
   "cell_type": "code",
   "execution_count": 30,
   "metadata": {
    "collapsed": true
   },
   "outputs": [],
   "source": [
    "class HiddenLayer:\n",
    "    def __init__(self,n_in_units,n_out_units):\n",
    "        \"first layer structure\"\n",
    "        self.n_in_units=n_in_units\n",
    "        self.n_out_units=n_out_units\n",
    "        \n",
    "        self.next_units=[]\n",
    "        self.potential=[]\n",
    "        self.delta=[]\n",
    "        self.out=[]\n",
    "        np.random.seed(0)\n",
    "        self.weights = np.random.rand(self.n_in_units, n_out_units) # later need transpose \n",
    "        \n",
    "    def sigmoid(self,a):\n",
    "        return 1/(1+np.exp(-a))\n",
    "    \n",
    "    \n",
    "    def forward_pass(self,input_units): #compute output\n",
    "        \"computer hiddenlayer units' activation value\"\n",
    "        self.potential=input_units.dot(self.weights)\n",
    "        self.next_units=self.sigmoid(self.potential)\n",
    "        self.out=np.insert(self.next_units,0,1,axis=1)\n",
    "        \n",
    "    def back_prop(self,pre_unit,next_delta,next_weights,stepsize):\n",
    "        \"compute delta: using deriviate of sigmoid function\"\n",
    "        \"gradient descent: #average gradient\"\n",
    "        self.delta= self.out * (1-self.out)*(next_delta.dot(next_weights.T))\n",
    "        self.weights = self.weights -(stepsize * pre_unit.T.dot(self.delta[:,1:]))/pre_unit.shape[0]"
   ]
  },
  {
   "cell_type": "code",
   "execution_count": 31,
   "metadata": {
    "collapsed": true
   },
   "outputs": [],
   "source": [
    "class OutLayer(HiddenLayer):\n",
    "    def _init_(self,n_in_units,n_out_units):\n",
    "        \"output layer constructure\"\n",
    "        HiddenLayer._init_(self,n_in_units,n_out_units)\n",
    "        self.out=0\n",
    "        self.predict=[]\n",
    "        \n",
    "    def forward_pass(self, input_units):\n",
    "        self.out=input_units.dot(self.weights)\n",
    "\n",
    "        \n",
    "    def backward_prop(self,pred_unit,true_unit,stepsize,pre_units):\n",
    "        self.delta= 2*(pred_unit- true_unit)\n",
    "        self.weights = self.weights - stepsize * pre_units.T.dot(self.delta) / pre_units.shape[0]\n",
    "        \n",
    "\n",
    "        \n",
    "    def mse(self,true_unit):\n",
    "        \"computing float value of output, not after threshold\"\n",
    "        return np.mean(np.square(self.out - true_unit))\n",
    "    \n",
    "    def predict_unit(self):\n",
    "        \"use for feed backward\"\n",
    "        return np.where(self.out > 0.5, 1, 0)\n",
    "    \n",
    "    def predict_unit_continous(self):\n",
    "        \"use for feed backward\"\n",
    "        self.predict=np.where(self.out >0,1,self.out)\n",
    "        self.predict=np.where(self.predict<0,-1,self.predict)\n",
    "        return self.predict\n",
    "   "
   ]
  },
  {
   "cell_type": "markdown",
   "metadata": {},
   "source": [
    "XOR TASK:"
   ]
  },
  {
   "cell_type": "code",
   "execution_count": 8,
   "metadata": {},
   "outputs": [],
   "source": [
    "X = np.array([[1, 0, 0], [1, 1, 0], [1, 0, 1], [1, 1, 1]]) #as in the front as bias\n",
    "Y = np.array([[1],[0], [0], [1]])"
   ]
  },
  {
   "cell_type": "code",
   "execution_count": 11,
   "metadata": {},
   "outputs": [],
   "source": [
    "epochs=4000\n",
    "stepsize=0.1\n",
    "error=[]\n",
    "n_in_units=2\n",
    "n_out_units=1\n",
    "hiddenlayer=HiddenLayer(X.shape[1],n_in_units)\n",
    "outlayer=OutLayer(n_in_units+1,n_out_units)   \n",
    "#extra one dim is bias term"
   ]
  },
  {
   "cell_type": "code",
   "execution_count": 12,
   "metadata": {
    "collapsed": true
   },
   "outputs": [],
   "source": [
    "for epoch in range(epochs):\n",
    "    hiddenlayer.forward_pass(X)\n",
    "    outlayer.forward_pass(hiddenlayer.out)\n",
    "  \n",
    "    \n",
    "    pred_unit=outlayer.predict_unit()\n",
    "    \n",
    "    out=outlayer.out\n",
    "\n",
    "    outlayer.backward_prop(pred_unit,Y,stepsize,hiddenlayer.out)\n",
    "    #outlayer.backward_prop(pred_unit,Y,stepsize,hiddenlayer.next_units)\n",
    "    \n",
    "    #hiddenlayer.back_prop(X,hiddenlayer.next_units,outlayer.weights,stepsize)\n",
    "    hiddenlayer.back_prop(X,outlayer.delta,outlayer.weights,stepsize)\n",
    "    error.append(outlayer.mse(Y))"
   ]
  },
  {
   "cell_type": "code",
   "execution_count": 13,
   "metadata": {
    "scrolled": false
   },
   "outputs": [
    {
     "data": {
      "text/plain": [
       "[<matplotlib.lines.Line2D at 0x106f40438>]"
      ]
     },
     "execution_count": 13,
     "metadata": {},
     "output_type": "execute_result"
    },
    {
     "data": {
      "image/png": "[encoded data removed]",
      "text/plain": [
       "<matplotlib.figure.Figure at 0x106b0ea58>"
      ]
     },
     "metadata": {},
     "output_type": "display_data"
    }
   ],
   "source": [
    "plt.plot(error)\n"
   ]
  },
  {
   "cell_type": "markdown",
   "metadata": {},
   "source": [
    "Bounes Task 1: Continous value"
   ]
  },
  {
   "cell_type": "code",
   "execution_count": 32,
   "metadata": {
    "collapsed": true
   },
   "outputs": [],
   "source": [
    "n=10\n",
    "y=np.zeros(n)\n",
    "data=np.random.uniform(low=-1, high=1, size=(n, 2))\n",
    "data=np.insert(data,0,1,axis=1)\n",
    "y[data[:, 1] * data[:, 2]==0]=0\n",
    "y[data[:, 1] * data[:, 2]>0]=1\n",
    "y[data[:, 1] * data[:, 2]<0]=-1\n",
    "y=y.reshape(n,1)\n"
   ]
  },
  {
   "cell_type": "code",
   "execution_count": 90,
   "metadata": {
    "collapsed": true
   },
   "outputs": [],
   "source": [
    "epochs=80000\n",
    "stepsize=0.015\n",
    "error=[]\n",
    "n_in_units=3\n",
    "n_out_units=1\n",
    "hiddenlayer=HiddenLayer(data.shape[1],n_in_units)\n",
    "outlayer=OutLayer(n_in_units+1,n_out_units)"
   ]
  },
  {
   "cell_type": "code",
   "execution_count": 91,
   "metadata": {},
   "outputs": [],
   "source": [
    "for epoch in range(epochs):\n",
    "    hiddenlayer.forward_pass(data)\n",
    "    outlayer.forward_pass(hiddenlayer.out)\n",
    "  \n",
    "    pred_unit=outlayer.predict_unit_continous()\n",
    "    out=outlayer.out\n",
    "    outlayer.backward_prop(pred_unit,y,stepsize,hiddenlayer.out)\n",
    "    hiddenlayer.back_prop(data,outlayer.delta,outlayer.weights,stepsize)\n",
    "    error.append(outlayer.mse(y))"
   ]
  },
  {
   "cell_type": "code",
   "execution_count": 101,
   "metadata": {},
   "outputs": [
    {
     "name": "stdout",
     "output_type": "stream",
     "text": [
      "final predict: [[-0.03904699 -0.01451859 -0.00058122  0.0002173   0.01898803  0.01611626\n",
      "  -0.0703888   0.05680999  0.08459035 -0.02222008]] \n",
      "true result: [[-1. -1. -1.  1.  1.  1. -1.  1.  1. -1.]]\n"
     ]
    }
   ],
   "source": [
    "print(\"final predict:\",out.T,\"\\ntrue result:\",y.T)"
   ]
  },
  {
   "cell_type": "code",
   "execution_count": 92,
   "metadata": {},
   "outputs": [
    {
     "data": {
      "text/plain": [
       "[<matplotlib.lines.Line2D at 0x1106deef0>]"
      ]
     },
     "execution_count": 92,
     "metadata": {},
     "output_type": "execute_result"
    },
    {
     "data": {
      "image/png": "[encoded data removed]",
      "text/plain": [
       "<matplotlib.figure.Figure at 0x1126da780>"
      ]
     },
     "metadata": {},
     "output_type": "display_data"
    }
   ],
   "source": [
    "plt.plot(error)"
   ]
  },
  {
   "cell_type": "code",
   "execution_count": null,
   "metadata": {},
   "outputs": [],
   "source": []
  },
  {
   "cell_type": "code",
   "execution_count": null,
   "metadata": {
    "collapsed": true
   },
   "outputs": [],
   "source": []
  }
 ],
 "metadata": {
  "kernelspec": {
   "display_name": "Python 3",
   "language": "python",
   "name": "python3"
  },
  "language_info": {
   "codemirror_mode": {
    "name": "ipython",
    "version": 3
   },
   "file_extension": ".py",
   "mimetype": "text/x-python",
   "name": "python",
   "nbconvert_exporter": "python",
   "pygments_lexer": "ipython3",
   "version": "3.6.3"
  }
 },
 "nbformat": 4,
 "nbformat_minor": 2
}
